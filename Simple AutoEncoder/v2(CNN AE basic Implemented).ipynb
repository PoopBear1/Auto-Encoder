{
  "nbformat": 4,
  "nbformat_minor": 0,
  "metadata": {
    "colab": {
      "name": "auto-encoder.ipynb",
      "provenance": [],
      "collapsed_sections": []
    },
    "kernelspec": {
      "name": "python3",
      "display_name": "Python 3"
    },
    "language_info": {
      "name": "python"
    },
    "accelerator": "GPU",
    "gpuClass": "standard"
  },
  "cells": [
    {
      "cell_type": "code",
      "execution_count": 38,
      "metadata": {
        "id": "j-7jrybEsZC7"
      },
      "outputs": [],
      "source": [
        "import torch\n",
        "import torch.nn as nn\n",
        "import torch.utils.data as Data\n",
        "import torchvision\n",
        "import matplotlib.pyplot as plt\n",
        "from mpl_toolkits.mplot3d import Axes3D\n",
        "from matplotlib import cm\n",
        "from torch.autograd import Variable\n",
        "import numpy as np\n",
        "from torchvision import transforms\n",
        "import os\n",
        "import torch.optim as optim\n",
        "import torch.nn.functional as F"
      ]
    },
    {
      "cell_type": "code",
      "source": [
        "config = {\n",
        "    \"num_epochs\":50,\n",
        "    \"lr\":1e-3,\n",
        "    \"regular_constant\":1e-5,\n",
        "    \"batch_size\" : 128,\n",
        "    \"train_transform\":transforms.Compose([\n",
        "        transforms.ToTensor(),\n",
        "        torchvision.transforms.Normalize((0.1307,), (0.3081,)),\n",
        "    ]),\n",
        "    \"test_transform\":transforms.Compose([\n",
        "        transforms.ToTensor(),\n",
        "        torchvision.transforms.Normalize((0.1307,), (0.3081,))\n",
        "    ]), \n",
        "}\n",
        "device = torch.device(\"cuda\" if torch.cuda.is_available() else \"cpu\")"
      ],
      "metadata": {
        "id": "iGNpFpvvvBxu"
      },
      "execution_count": 39,
      "outputs": []
    },
    {
      "cell_type": "code",
      "source": [
        "class AutoEncoder(nn.Module):\n",
        "    def __init__(self):\n",
        "        super(AutoEncoder,self).__init__()\n",
        "        self.encoder = nn.Sequential( \n",
        "            nn.Conv2d(in_channels = 1, out_channels = 28, kernel_size=4, stride=1, padding=0),\n",
        "            nn.BatchNorm2d(28),\n",
        "            nn.ReLU(),\n",
        "            nn.Conv2d(in_channels = 28, out_channels = 32, kernel_size=4, stride=1, padding=0),\n",
        "            nn.BatchNorm2d(32),\n",
        "            nn.ReLU(),\n",
        "            )\n",
        "\n",
        "        self.decoder = nn.Sequential( \n",
        "            nn.ConvTranspose2d(in_channels = 32, out_channels = 28, kernel_size=4, stride=1, padding=0),\n",
        "            nn.BatchNorm2d(28),\n",
        "            nn.ReLU(),\n",
        "            nn.ConvTranspose2d(in_channels = 28, out_channels = 1, kernel_size=4, stride=1, padding=0),\n",
        "            nn.BatchNorm2d(1),\n",
        "            nn.ReLU(),\n",
        "            )\n",
        "\n",
        "    def forward(self,x):\n",
        "        # print(\"the original is: \",x.shape)\n",
        "        encoder = self.encoder(x)\n",
        "        decoder = self.decoder(encoder)\n",
        "        # print(\"after decorder \",decoder.shape)\n",
        "        return decoder"
      ],
      "metadata": {
        "id": "8LHcweswznK_"
      },
      "execution_count": 40,
      "outputs": []
    },
    {
      "cell_type": "code",
      "source": [
        "# # !pip install torchsummary\n",
        "\n",
        "from torchsummary import summary\n",
        "summary(AutoEncoder().to(device), input_size=(1, 28, 28))"
      ],
      "metadata": {
        "colab": {
          "base_uri": "https://localhost:8080/"
        },
        "id": "FbVz67O7JdjA",
        "outputId": "fc335b2b-024d-4a63-b3eb-1be1eeac8d12"
      },
      "execution_count": 41,
      "outputs": [
        {
          "output_type": "stream",
          "name": "stdout",
          "text": [
            "----------------------------------------------------------------\n",
            "        Layer (type)               Output Shape         Param #\n",
            "================================================================\n",
            "            Conv2d-1           [-1, 28, 25, 25]             476\n",
            "       BatchNorm2d-2           [-1, 28, 25, 25]              56\n",
            "              ReLU-3           [-1, 28, 25, 25]               0\n",
            "            Conv2d-4           [-1, 32, 22, 22]          14,368\n",
            "       BatchNorm2d-5           [-1, 32, 22, 22]              64\n",
            "              ReLU-6           [-1, 32, 22, 22]               0\n",
            "   ConvTranspose2d-7           [-1, 28, 25, 25]          14,364\n",
            "       BatchNorm2d-8           [-1, 28, 25, 25]              56\n",
            "              ReLU-9           [-1, 28, 25, 25]               0\n",
            "  ConvTranspose2d-10            [-1, 1, 28, 28]             449\n",
            "      BatchNorm2d-11            [-1, 1, 28, 28]               2\n",
            "             ReLU-12            [-1, 1, 28, 28]               0\n",
            "================================================================\n",
            "Total params: 29,835\n",
            "Trainable params: 29,835\n",
            "Non-trainable params: 0\n",
            "----------------------------------------------------------------\n",
            "Input size (MB): 0.00\n",
            "Forward/backward pass size (MB): 1.17\n",
            "Params size (MB): 0.11\n",
            "Estimated Total Size (MB): 1.29\n",
            "----------------------------------------------------------------\n"
          ]
        }
      ]
    },
    {
      "cell_type": "code",
      "source": [
        "def train(train_dataloader, validate_dataloader, device, config, path):\n",
        "    model = AutoEncoder().to(device)\n",
        "    optimizer = optim.Adam(\n",
        "        model.parameters(),\n",
        "        lr=config[\"lr\"],\n",
        "        betas=(0.9, 0.999),\n",
        "        weight_decay=config[\"regular_constant\"],\n",
        "    )\n",
        "    train_loss_value = []\n",
        "    validate_loss_value = []\n",
        "    train_accuracy = []\n",
        "    validate_accuracy = []\n",
        "    current_epoch = []\n",
        "    # acc = 0.0\n",
        "    low_loss = torch.tensor(float('inf')).cuda()\n",
        "    for epoch in range(config[\"num_epochs\"]):\n",
        "        model.train()\n",
        "        train_loss = 0\n",
        "        correct = 0\n",
        "        total = 0\n",
        "        current_epoch.append(epoch + 1)\n",
        "        print(\"####### Training Processing #######\")\n",
        "        print(\"in epoch: \", epoch + 1)\n",
        "        if epoch > 20:\n",
        "            optimizer = optim.Adam(\n",
        "                model.parameters(),\n",
        "                lr=config[\"lr\"] * 0.5,\n",
        "                betas=(0.9, 0.999),\n",
        "                weight_decay=config[\"regular_constant\"],\n",
        "            )\n",
        "        if epoch > 30:\n",
        "            optimizer = optim.Adam(\n",
        "                model.parameters(),\n",
        "                lr=config[\"lr\"] * 0.2,\n",
        "                betas=(0.9, 0.999),\n",
        "                weight_decay=config[\"regular_constant\"],\n",
        "            )\n",
        "\n",
        "        if epoch > 35:\n",
        "            optimizer = optim.Adam(\n",
        "                model.parameters(),\n",
        "                lr=config[\"lr\"] * 0.1,\n",
        "                betas=(0.9, 0.999),\n",
        "                weight_decay=config[\"regular_constant\"],\n",
        "            )\n",
        "\n",
        "        for batch_idx, (inputs, targets) in enumerate(train_dataloader):\n",
        "            inputs, targets = inputs.to(device), targets.to(device)\n",
        "            # print(inputs.shape,targets.shape)\n",
        "            # print(\"###########\")\n",
        "            optimizer.zero_grad()\n",
        "            outputs = model(inputs)\n",
        "            # print(outputs.shape)\n",
        "            loss = loss_function(outputs, inputs)\n",
        "            loss.backward()\n",
        "            optimizer.step()\n",
        "\n",
        "            train_loss += loss.item()\n",
        "            # _, predicted = outputs.max(1)\n",
        "            total += targets.size(0)\n",
        "            # correct += predicted.eq(targets).sum().item()\n",
        "        train_loss /= len(train_dataloader.dataset)\n",
        "        # print(\n",
        "            # \"Training set: Avg. loss: {:.4f}, Accuracy: {}/{} ({:.0f}%)\\n\".format(\n",
        "                # train_loss, correct, total, 100.0 * correct / total\n",
        "            # )\n",
        "        # )\n",
        "        print(\"Training set: Avg. loss: {:.6f}\".format(train_loss))\n",
        "        train_loss_value.append(train_loss)\n",
        "        # train_accuracy.append(100.0 * (correct / total))\n",
        "\n",
        "        # Validation step\n",
        "        model.eval()\n",
        "        validation_loss = 0\n",
        "        correct = 0\n",
        "        with torch.no_grad():\n",
        "            for data, target in validate_dataloader:\n",
        "                data, target = data.to(device), target.to(device)\n",
        "                output = model(data) \n",
        "                # pred = output.data.max(1, keepdim=True)[1]\n",
        "                # correct += pred.eq(target.data.view_as(pred)).sum().item()\n",
        "                validation_loss += loss_function(output, data).item()\n",
        "            validation_loss /= len(validate_dataloader.dataset)\n",
        "            # print(\n",
        "            #     \"\\nValidation set: Avg. loss: {:.4f}, Accuracy: {}/{} ({:.0f}%)\\n\".format(\n",
        "            #         validation_loss,\n",
        "            #         correct,\n",
        "            #         len(validate_dataloader.dataset),\n",
        "            #         100.0 * correct / len(validate_dataloader.dataset),\n",
        "            #     )\n",
        "            # )\n",
        "            print(\"\\nValidation set: Avg. loss: {:.6f}\".format(validation_loss))\n",
        "        # current_acc = 100.0 * correct / len(validate_dataloader.dataset)\n",
        "\n",
        "        validate_loss_value.append(validation_loss)\n",
        "        # validate_accuracy.append(current_acc)\n",
        "        # if current_acc > acc:\n",
        "        #     acc = current_acc\n",
        "        if validation_loss < low_loss:\n",
        "            low_loss = validation_loss\n",
        "        \n",
        "            torch.save(model.state_dict(), os.path.join(path, \"ckpt.pth\"))\n",
        "            print(\"model save at checkpoint\")\n",
        "\n",
        "    plt.plot(current_epoch, train_loss_value, \"b\", label=\"Training Loss\")\n",
        "    plt.plot(current_epoch, validate_loss_value, \"r\", label=\"Validation Loss\")\n",
        "    plt.title(\"Loss v.s. Epochs\")\n",
        "    plt.legend()\n",
        "    plt.savefig(os.path.join(path, \"loss_curve.jpg\"))\n",
        "    plt.figure()\n",
        "\n",
        "    # plt.plot(current_epoch, train_accuracy, \"b\", label=\"Training Accuracy\")\n",
        "    # plt.plot(current_epoch, validate_accuracy, \"r\", label=\"Validation Accuracy\")\n",
        "    # plt.title(\"Accuracy v.s. Epochs\")\n",
        "    # plt.legend()\n",
        "    # plt.savefig(os.path.join(path, \"accuracy.jpg\"))\n",
        "    # plt.show()\n",
        "    return model"
      ],
      "metadata": {
        "id": "Gx8oDhxx_4BN"
      },
      "execution_count": 42,
      "outputs": []
    },
    {
      "cell_type": "code",
      "source": [
        "def test(test_dataloader, model, device):\n",
        "    test_predictions = []\n",
        "    true_labels = []\n",
        "    model.eval()\n",
        "    test_loss = 0\n",
        "    correct = 0\n",
        "\n",
        "    with torch.no_grad():\n",
        "        for data, target in test_dataloader:\n",
        "            data,target = data.to(device), target.to(device)\n",
        "            output = model(data)\n",
        "            loss = loss_function(output, data)\n",
        "            test_loss += loss.item()\n",
        "            # pred = output.data.max(1, keepdim=True)[1]\n",
        "            # test_predictions.append(pred[0])\n",
        "            # true_labels.append(target.data.view_as(pred)[0])\n",
        "            # correct += pred.eq(target.data.view_as(pred)).sum()\n",
        "        test_loss /= len(test_dataloader.dataset)\n",
        "        # print(\n",
        "        #     \"Test set: Avg. loss: {:.4f}, Accuracy: {}/{} ({:.0f}%)\\n\".format(\n",
        "        #         test_loss,\n",
        "        #         correct,\n",
        "        #         len(test_dataloader.dataset),\n",
        "        #         100.0 * correct.item() / len(test_dataloader.dataset),\n",
        "        #     )\n",
        "        # )\n",
        "        print(\"\\nTest set: Avg. loss: {:.6f}\".format(test_loss))\n",
        "        return test_predictions, true_labels"
      ],
      "metadata": {
        "id": "IjxVFb2r_7LO"
      },
      "execution_count": 47,
      "outputs": []
    },
    {
      "cell_type": "code",
      "source": [
        "train_data = torchvision.datasets.MNIST(\n",
        "    root='./data/', \n",
        "    train=True,\n",
        "    transform = config[\"train_transform\"],  \n",
        "    download=True,  \n",
        ")\n",
        "\n",
        "test_data = torchvision.datasets.MNIST(\n",
        "    root='./data/', \n",
        "    train=False, \n",
        "    transform = config[\"test_transform\"],  \n",
        "    download=True,  \n",
        ")\n",
        "training_set, validation_set = torch.utils.data.random_split(train_data, [int(len(train_data)*0.8), int(len(train_data)*0.2)])\n",
        "\n",
        "train_loader = Data.DataLoader(\n",
        "    training_set,\n",
        "    batch_size = config[\"batch_size\"],\n",
        "    shuffle = True,\n",
        "    ) \n",
        "\n",
        "vali_loader = Data.DataLoader(\n",
        "    validation_set,\n",
        "    batch_size = config[\"batch_size\"],\n",
        "    shuffle = True,\n",
        "    ) \n",
        "\n",
        "test_loader  = Data.DataLoader(\n",
        "    test_data,\n",
        "    batch_size = config[\"batch_size\"],\n",
        "    shuffle = False,\n",
        ")"
      ],
      "metadata": {
        "id": "uz2HZWEX1Ru1"
      },
      "execution_count": 44,
      "outputs": []
    },
    {
      "cell_type": "code",
      "source": [
        "loss_function = nn.MSELoss()\n",
        "if os.path.exists(\"ckpt.pth\"):\n",
        "    checkpoint = torch.load(\"ckpt.pth\", map_location=device)\n",
        "    model = AutoEncoder().to(device)\n",
        "    model.load_state_dict(checkpoint)\n",
        "else:\n",
        "    model = train(train_loader, vali_loader, device, config, os.getcwd())\n",
        "# model = train(train_loader,vali_loader,device,config,path = os.getcwd())\n",
        "test(test_loader,model,device)"
      ],
      "metadata": {
        "colab": {
          "base_uri": "https://localhost:8080/"
        },
        "id": "QQVkoiOz5fMb",
        "outputId": "337a0b57-e623-4c17-f6a1-7065e3c725c6"
      },
      "execution_count": 48,
      "outputs": [
        {
          "output_type": "stream",
          "name": "stdout",
          "text": [
            "\n",
            "Test set: Avg. loss: 0.001159\n"
          ]
        },
        {
          "output_type": "execute_result",
          "data": {
            "text/plain": [
              "([], [])"
            ]
          },
          "metadata": {},
          "execution_count": 48
        }
      ]
    },
    {
      "cell_type": "code",
      "source": [],
      "metadata": {
        "id": "eYcv7jO5AdKR"
      },
      "execution_count": 45,
      "outputs": []
    }
  ]
}